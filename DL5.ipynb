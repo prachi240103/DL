{
 "cells": [
  {
   "cell_type": "markdown",
   "id": "125f8217",
   "metadata": {},
   "source": [
    "## Implement the Continuous Bag of Words (CBOW) Model. Stages can be:\n",
    "a. Data preparation<br>\n",
    "b. Generate training data<br>\n",
    "c. Train model<br>\n",
    "d. Output<br>"
   ]
  },
  {
   "cell_type": "code",
   "execution_count": 1,
   "id": "ab98d718",
   "metadata": {},
   "outputs": [],
   "source": [
    "import numpy as np\n",
    "import re"
   ]
  },
  {
   "cell_type": "code",
   "execution_count": 2,
   "id": "9201f9ac",
   "metadata": {},
   "outputs": [
    {
     "data": {
      "text/plain": [
       "'Deep learning (also known as deep structured learning) is part of a broader family of machine learning methods based on artificial neural networks with representation learning. Learning can be supervised, semi-supervised or unsupervised. Deep-learning architectures such as deep neural networks, deep belief networks, deep reinforcement learning, recurrent neural networks, convolutional neural networks and Transformers have been applied to fields including computer vision, speech recognition, natural language processing, machine translation, bioinformatics, drug design, medical image analysis, climate science, material inspection and board game programs, where they have produced results comparable to and in some cases surpassing human expert performance.'"
      ]
     },
     "execution_count": 2,
     "metadata": {},
     "output_type": "execute_result"
    }
   ],
   "source": [
    "data = \"\"\"Deep learning (also known as deep structured learning) is part of a broader family of machine learning methods based on artificial neural networks with representation learning. Learning can be supervised, semi-supervised or unsupervised. Deep-learning architectures such as deep neural networks, deep belief networks, deep reinforcement learning, recurrent neural networks, convolutional neural networks and Transformers have been applied to fields including computer vision, speech recognition, natural language processing, machine translation, bioinformatics, drug design, medical image analysis, climate science, material inspection and board game programs, where they have produced results comparable to and in some cases surpassing human expert performance.\"\"\"\n",
    "data"
   ]
  },
  {
   "cell_type": "code",
   "execution_count": 3,
   "id": "c806d4d7",
   "metadata": {},
   "outputs": [
    {
     "data": {
      "text/plain": [
       "['Deep learning (also known as deep structured learning) is part of a broader family of machine learning methods based on artificial neural networks with representation learning',\n",
       " ' Learning can be supervised, semi-supervised or unsupervised',\n",
       " ' Deep-learning architectures such as deep neural networks, deep belief networks, deep reinforcement learning, recurrent neural networks, convolutional neural networks and Transformers have been applied to fields including computer vision, speech recognition, natural language processing, machine translation, bioinformatics, drug design, medical image analysis, climate science, material inspection and board game programs, where they have produced results comparable to and in some cases surpassing human expert performance',\n",
       " '']"
      ]
     },
     "execution_count": 3,
     "metadata": {},
     "output_type": "execute_result"
    }
   ],
   "source": [
    "sentences = data.split('.')\n",
    "sentences"
   ]
  },
  {
   "cell_type": "code",
   "execution_count": 4,
   "id": "5713d148",
   "metadata": {},
   "outputs": [
    {
     "data": {
      "text/plain": [
       "['deep learning also known as deep structured learning is part of a broader family of machine learning methods based on artificial neural networks with representation learning',\n",
       " 'learning can be supervised semi supervised or unsupervised',\n",
       " 'deep learning architectures such as deep neural networks deep belief networks deep reinforcement learning recurrent neural networks convolutional neural networks and transformers have been applied to fields including computer vision speech recognition natural language processing machine translation bioinformatics drug design medical image analysis climate science material inspection and board game programs where they have produced results comparable to and in some cases surpassing human expert performance']"
      ]
     },
     "execution_count": 4,
     "metadata": {},
     "output_type": "execute_result"
    }
   ],
   "source": [
    "clean_sent=[]\n",
    "for sentence in sentences:\n",
    "    if sentence==\"\":\n",
    "        continue\n",
    "    sentence = re.sub('[^A-Za-z0-9]+', ' ', (sentence))\n",
    "    sentence = re.sub(r'(?:^| )\\w (?:$| )', ' ', (sentence)).strip()\n",
    "    sentence = sentence.lower()\n",
    "    clean_sent.append(sentence)\n",
    "\n",
    "clean_sent"
   ]
  },
  {
   "cell_type": "code",
   "execution_count": 5,
   "id": "a48d4eba",
   "metadata": {},
   "outputs": [
    {
     "name": "stdout",
     "output_type": "stream",
     "text": [
      "WARNING:tensorflow:From C:\\Users\\hp\\anaconda3\\Lib\\site-packages\\keras\\src\\losses.py:2976: The name tf.losses.sparse_softmax_cross_entropy is deprecated. Please use tf.compat.v1.losses.sparse_softmax_cross_entropy instead.\n",
      "\n"
     ]
    }
   ],
   "source": [
    "from tensorflow.keras.preprocessing.text import Tokenizer"
   ]
  },
  {
   "cell_type": "code",
   "execution_count": 6,
   "id": "a3174c77",
   "metadata": {},
   "outputs": [
    {
     "name": "stdout",
     "output_type": "stream",
     "text": [
      "[[2, 1, 12, 13, 6, 2, 14, 1, 15, 16, 7, 17, 18, 19, 7, 8, 1, 20, 21, 22, 23, 4, 3, 24, 25, 1], [1, 26, 27, 9, 28, 9, 29, 30], [2, 1, 31, 32, 6, 2, 4, 3, 2, 33, 3, 2, 34, 1, 35, 4, 3, 36, 4, 3, 5, 37, 10, 38, 39, 11, 40, 41, 42, 43, 44, 45, 46, 47, 48, 8, 49, 50, 51, 52, 53, 54, 55, 56, 57, 58, 59, 5, 60, 61, 62, 63, 64, 10, 65, 66, 67, 11, 5, 68, 69, 70, 71, 72, 73, 74]]\n"
     ]
    }
   ],
   "source": [
    "tokenizer = Tokenizer()\n",
    "tokenizer.fit_on_texts(clean_sent)\n",
    "sequences = tokenizer.texts_to_sequences(clean_sent)\n",
    "print(sequences)"
   ]
  },
  {
   "cell_type": "code",
   "execution_count": 7,
   "id": "5fa22792",
   "metadata": {},
   "outputs": [
    {
     "name": "stdout",
     "output_type": "stream",
     "text": [
      "{2: 'deep', 1: 'learning', 12: 'also', 13: 'known', 6: 'as', 14: 'structured', 15: 'is', 16: 'part', 7: 'of', 17: 'a', 18: 'broader', 19: 'family', 8: 'machine', 20: 'methods', 21: 'based', 22: 'on', 23: 'artificial', 4: 'neural', 3: 'networks', 24: 'with', 25: 'representation', 26: 'can', 27: 'be', 9: 'supervised', 28: 'semi', 29: 'or', 30: 'unsupervised', 31: 'architectures', 32: 'such', 33: 'belief', 34: 'reinforcement', 35: 'recurrent', 36: 'convolutional', 5: 'and', 37: 'transformers', 10: 'have', 38: 'been', 39: 'applied', 11: 'to', 40: 'fields', 41: 'including', 42: 'computer', 43: 'vision', 44: 'speech', 45: 'recognition', 46: 'natural', 47: 'language', 48: 'processing', 49: 'translation', 50: 'bioinformatics', 51: 'drug', 52: 'design', 53: 'medical', 54: 'image', 55: 'analysis', 56: 'climate', 57: 'science', 58: 'material', 59: 'inspection', 60: 'board', 61: 'game', 62: 'programs', 63: 'where', 64: 'they', 65: 'produced', 66: 'results', 67: 'comparable', 68: 'in', 69: 'some', 70: 'cases', 71: 'surpassing', 72: 'human', 73: 'expert', 74: 'performance'} \n",
      "\n",
      "{'deep': 2, 'learning': 1, 'also': 12, 'known': 13, 'as': 6, 'structured': 14, 'is': 15, 'part': 16, 'of': 7, 'a': 17, 'broader': 18, 'family': 19, 'machine': 8, 'methods': 20, 'based': 21, 'on': 22, 'artificial': 23, 'neural': 4, 'networks': 3, 'with': 24, 'representation': 25, 'can': 26, 'be': 27, 'supervised': 9, 'semi': 28, 'or': 29, 'unsupervised': 30, 'architectures': 31, 'such': 32, 'belief': 33, 'reinforcement': 34, 'recurrent': 35, 'convolutional': 36, 'and': 5, 'transformers': 37, 'have': 10, 'been': 38, 'applied': 39, 'to': 11, 'fields': 40, 'including': 41, 'computer': 42, 'vision': 43, 'speech': 44, 'recognition': 45, 'natural': 46, 'language': 47, 'processing': 48, 'translation': 49, 'bioinformatics': 50, 'drug': 51, 'design': 52, 'medical': 53, 'image': 54, 'analysis': 55, 'climate': 56, 'science': 57, 'material': 58, 'inspection': 59, 'board': 60, 'game': 61, 'programs': 62, 'where': 63, 'they': 64, 'produced': 65, 'results': 66, 'comparable': 67, 'in': 68, 'some': 69, 'cases': 70, 'surpassing': 71, 'human': 72, 'expert': 73, 'performance': 74}\n"
     ]
    }
   ],
   "source": [
    "index_to_word = {}\n",
    "word_to_index = {}\n",
    "\n",
    "for i, sequence in enumerate(sequences):\n",
    "#     print(sequence)\n",
    "    word_in_sentence = clean_sent[i].split()\n",
    "#     print(word_in_sentence)\n",
    "    \n",
    "    for j, value in enumerate(sequence):\n",
    "        index_to_word[value] = word_in_sentence[j]\n",
    "        word_to_index[word_in_sentence[j]] = value\n",
    "\n",
    "print(index_to_word, \"\\n\")\n",
    "print(word_to_index)"
   ]
  },
  {
   "cell_type": "code",
   "execution_count": 8,
   "id": "15d7a6db",
   "metadata": {},
   "outputs": [
    {
     "name": "stdout",
     "output_type": "stream",
     "text": [
      "[[2, 1, 13, 6], [1, 12, 6, 2], [12, 13, 2, 14], [13, 6, 14, 1], [6, 2, 1, 15], [2, 14, 15, 16], [14, 1, 16, 7], [1, 15, 7, 17], [15, 16, 17, 18], [16, 7, 18, 19], [7, 17, 19, 7], [17, 18, 7, 8], [18, 19, 8, 1], [19, 7, 1, 20], [7, 8, 20, 21], [8, 1, 21, 22], [1, 20, 22, 23], [20, 21, 23, 4], [21, 22, 4, 3], [22, 23, 3, 24], [23, 4, 24, 25], [4, 3, 25, 1], [1, 26, 9, 28], [26, 27, 28, 9], [27, 9, 9, 29], [9, 28, 29, 30], [2, 1, 32, 6], [1, 31, 6, 2], [31, 32, 2, 4], [32, 6, 4, 3], [6, 2, 3, 2], [2, 4, 2, 33], [4, 3, 33, 3], [3, 2, 3, 2], [2, 33, 2, 34], [33, 3, 34, 1], [3, 2, 1, 35], [2, 34, 35, 4], [34, 1, 4, 3], [1, 35, 3, 36], [35, 4, 36, 4], [4, 3, 4, 3], [3, 36, 3, 5], [36, 4, 5, 37], [4, 3, 37, 10], [3, 5, 10, 38], [5, 37, 38, 39], [37, 10, 39, 11], [10, 38, 11, 40], [38, 39, 40, 41], [39, 11, 41, 42], [11, 40, 42, 43], [40, 41, 43, 44], [41, 42, 44, 45], [42, 43, 45, 46], [43, 44, 46, 47], [44, 45, 47, 48], [45, 46, 48, 8], [46, 47, 8, 49], [47, 48, 49, 50], [48, 8, 50, 51], [8, 49, 51, 52], [49, 50, 52, 53], [50, 51, 53, 54], [51, 52, 54, 55], [52, 53, 55, 56], [53, 54, 56, 57], [54, 55, 57, 58], [55, 56, 58, 59], [56, 57, 59, 5], [57, 58, 5, 60], [58, 59, 60, 61], [59, 5, 61, 62], [5, 60, 62, 63], [60, 61, 63, 64], [61, 62, 64, 10], [62, 63, 10, 65], [63, 64, 65, 66], [64, 10, 66, 67], [10, 65, 67, 11], [65, 66, 11, 5], [66, 67, 5, 68], [67, 11, 68, 69], [11, 5, 69, 70], [5, 68, 70, 71], [68, 69, 71, 72], [69, 70, 72, 73], [70, 71, 73, 74]] \n",
      "\n",
      "[12, 13, 6, 2, 14, 1, 15, 16, 7, 17, 18, 19, 7, 8, 1, 20, 21, 22, 23, 4, 3, 24, 27, 9, 28, 9, 31, 32, 6, 2, 4, 3, 2, 33, 3, 2, 34, 1, 35, 4, 3, 36, 4, 3, 5, 37, 10, 38, 39, 11, 40, 41, 42, 43, 44, 45, 46, 47, 48, 8, 49, 50, 51, 52, 53, 54, 55, 56, 57, 58, 59, 5, 60, 61, 62, 63, 64, 10, 65, 66, 67, 11, 5, 68, 69, 70, 71, 72]\n"
     ]
    }
   ],
   "source": [
    "vocab_size = len(tokenizer.word_index) + 1\n",
    "emb_size = 10\n",
    "context_size = 2\n",
    "\n",
    "contexts = []\n",
    "targets = []\n",
    "\n",
    "for sequence in sequences:\n",
    "    for i in range(context_size, len(sequence) - context_size):\n",
    "        target = sequence[i]\n",
    "        context = [sequence[i - 2], sequence[i - 1], sequence[i + 1], sequence[i + 2]]\n",
    "#         print(context)\n",
    "        contexts.append(context)\n",
    "        targets.append(target)\n",
    "print(contexts, \"\\n\")\n",
    "print(targets)"
   ]
  },
  {
   "cell_type": "code",
   "execution_count": 9,
   "id": "1d3a2c03",
   "metadata": {},
   "outputs": [
    {
     "name": "stdout",
     "output_type": "stream",
     "text": [
      "['deep', 'learning', 'known', 'as']  ->  also\n",
      "['learning', 'also', 'as', 'deep']  ->  known\n",
      "['also', 'known', 'deep', 'structured']  ->  as\n",
      "['known', 'as', 'structured', 'learning']  ->  deep\n",
      "['as', 'deep', 'learning', 'is']  ->  structured\n"
     ]
    }
   ],
   "source": [
    "#printing features with target\n",
    "for i in range(5):\n",
    "    words = []\n",
    "    target = index_to_word.get(targets[i])\n",
    "    for j in contexts[i]:\n",
    "        words.append(index_to_word.get(j))\n",
    "    print(words,\" -> \", target)"
   ]
  },
  {
   "cell_type": "code",
   "execution_count": 10,
   "id": "52d258cb",
   "metadata": {},
   "outputs": [],
   "source": [
    "# Convert the contexts and targets to numpy arrays\n",
    "X = np.array(contexts)\n",
    "Y = np.array(targets)"
   ]
  },
  {
   "cell_type": "code",
   "execution_count": 11,
   "id": "8193057e",
   "metadata": {},
   "outputs": [],
   "source": [
    "# print(X)"
   ]
  },
  {
   "cell_type": "code",
   "execution_count": 12,
   "id": "c9f5e457",
   "metadata": {},
   "outputs": [],
   "source": [
    "import tensorflow as tf\n",
    "from tensorflow.keras.models import Sequential\n",
    "from tensorflow.keras.layers import Dense, Embedding, Lambda "
   ]
  },
  {
   "cell_type": "code",
   "execution_count": 13,
   "id": "e2f06d13",
   "metadata": {},
   "outputs": [
    {
     "name": "stdout",
     "output_type": "stream",
     "text": [
      "WARNING:tensorflow:From C:\\Users\\hp\\anaconda3\\Lib\\site-packages\\keras\\src\\backend.py:873: The name tf.get_default_graph is deprecated. Please use tf.compat.v1.get_default_graph instead.\n",
      "\n"
     ]
    }
   ],
   "source": [
    "model = Sequential([\n",
    "    Embedding(input_dim=vocab_size, output_dim=emb_size, input_length=2*context_size),\n",
    "    Lambda(lambda x: tf.reduce_mean(x, axis=1)),\n",
    "    Dense(256, activation='relu'),\n",
    "    Dense(512, activation='relu'),\n",
    "    Dense(vocab_size, activation='softmax')\n",
    "])\n"
   ]
  },
  {
   "cell_type": "code",
   "execution_count": 14,
   "id": "534adbc7",
   "metadata": {},
   "outputs": [
    {
     "name": "stdout",
     "output_type": "stream",
     "text": [
      "WARNING:tensorflow:From C:\\Users\\hp\\anaconda3\\Lib\\site-packages\\keras\\src\\optimizers\\__init__.py:309: The name tf.train.Optimizer is deprecated. Please use tf.compat.v1.train.Optimizer instead.\n",
      "\n"
     ]
    }
   ],
   "source": [
    "model.compile(loss='sparse_categorical_crossentropy', optimizer='adam', metrics=['accuracy'])"
   ]
  },
  {
   "cell_type": "code",
   "execution_count": 15,
   "id": "26df79c4",
   "metadata": {},
   "outputs": [
    {
     "name": "stdout",
     "output_type": "stream",
     "text": [
      "Epoch 1/80\n",
      "WARNING:tensorflow:From C:\\Users\\hp\\anaconda3\\Lib\\site-packages\\keras\\src\\utils\\tf_utils.py:492: The name tf.ragged.RaggedTensorValue is deprecated. Please use tf.compat.v1.ragged.RaggedTensorValue instead.\n",
      "\n",
      "WARNING:tensorflow:From C:\\Users\\hp\\anaconda3\\Lib\\site-packages\\keras\\src\\engine\\base_layer_utils.py:384: The name tf.executing_eagerly_outside_functions is deprecated. Please use tf.compat.v1.executing_eagerly_outside_functions instead.\n",
      "\n",
      "3/3 [==============================] - 2s 20ms/step - loss: 4.3181 - accuracy: 0.0114\n",
      "Epoch 2/80\n",
      "3/3 [==============================] - 0s 14ms/step - loss: 4.3114 - accuracy: 0.0909\n",
      "Epoch 3/80\n",
      "3/3 [==============================] - 0s 11ms/step - loss: 4.3055 - accuracy: 0.0795\n",
      "Epoch 4/80\n",
      "3/3 [==============================] - 0s 10ms/step - loss: 4.2970 - accuracy: 0.0909\n",
      "Epoch 5/80\n",
      "3/3 [==============================] - 0s 10ms/step - loss: 4.2854 - accuracy: 0.0909\n",
      "Epoch 6/80\n",
      "3/3 [==============================] - 0s 9ms/step - loss: 4.2713 - accuracy: 0.0909\n",
      "Epoch 7/80\n",
      "3/3 [==============================] - 0s 9ms/step - loss: 4.2498 - accuracy: 0.0909\n",
      "Epoch 8/80\n",
      "3/3 [==============================] - 0s 11ms/step - loss: 4.2228 - accuracy: 0.0568\n",
      "Epoch 9/80\n",
      "3/3 [==============================] - 0s 10ms/step - loss: 4.1906 - accuracy: 0.0568\n",
      "Epoch 10/80\n",
      "3/3 [==============================] - 0s 9ms/step - loss: 4.1412 - accuracy: 0.0568\n",
      "Epoch 11/80\n",
      "3/3 [==============================] - 0s 9ms/step - loss: 4.0923 - accuracy: 0.0568\n",
      "Epoch 12/80\n",
      "3/3 [==============================] - 0s 8ms/step - loss: 4.0375 - accuracy: 0.0568\n",
      "Epoch 13/80\n",
      "3/3 [==============================] - 0s 9ms/step - loss: 3.9927 - accuracy: 0.0568\n",
      "Epoch 14/80\n",
      "3/3 [==============================] - 0s 8ms/step - loss: 3.9387 - accuracy: 0.0568\n",
      "Epoch 15/80\n",
      "3/3 [==============================] - 0s 9ms/step - loss: 3.8990 - accuracy: 0.0568\n",
      "Epoch 16/80\n",
      "3/3 [==============================] - 0s 9ms/step - loss: 3.8474 - accuracy: 0.0568\n",
      "Epoch 17/80\n",
      "3/3 [==============================] - 0s 8ms/step - loss: 3.7855 - accuracy: 0.0568\n",
      "Epoch 18/80\n",
      "3/3 [==============================] - 0s 8ms/step - loss: 3.7265 - accuracy: 0.1136\n",
      "Epoch 19/80\n",
      "3/3 [==============================] - 0s 11ms/step - loss: 3.6559 - accuracy: 0.1250\n",
      "Epoch 20/80\n",
      "3/3 [==============================] - 0s 11ms/step - loss: 3.5820 - accuracy: 0.1477\n",
      "Epoch 21/80\n",
      "3/3 [==============================] - 0s 11ms/step - loss: 3.5009 - accuracy: 0.1818\n",
      "Epoch 22/80\n",
      "3/3 [==============================] - 0s 11ms/step - loss: 3.4137 - accuracy: 0.2159\n",
      "Epoch 23/80\n",
      "3/3 [==============================] - 0s 10ms/step - loss: 3.3228 - accuracy: 0.2500\n",
      "Epoch 24/80\n",
      "3/3 [==============================] - 0s 13ms/step - loss: 3.2224 - accuracy: 0.2500\n",
      "Epoch 25/80\n",
      "3/3 [==============================] - 0s 10ms/step - loss: 3.1184 - accuracy: 0.2500\n",
      "Epoch 26/80\n",
      "3/3 [==============================] - 0s 8ms/step - loss: 3.0081 - accuracy: 0.2614\n",
      "Epoch 27/80\n",
      "3/3 [==============================] - 0s 8ms/step - loss: 2.8963 - accuracy: 0.2614\n",
      "Epoch 28/80\n",
      "3/3 [==============================] - 0s 9ms/step - loss: 2.7803 - accuracy: 0.2614\n",
      "Epoch 29/80\n",
      "3/3 [==============================] - 0s 9ms/step - loss: 2.6641 - accuracy: 0.2727\n",
      "Epoch 30/80\n",
      "3/3 [==============================] - 0s 9ms/step - loss: 2.5427 - accuracy: 0.2841\n",
      "Epoch 31/80\n",
      "3/3 [==============================] - 0s 8ms/step - loss: 2.4233 - accuracy: 0.3295\n",
      "Epoch 32/80\n",
      "3/3 [==============================] - 0s 8ms/step - loss: 2.3006 - accuracy: 0.3864\n",
      "Epoch 33/80\n",
      "3/3 [==============================] - 0s 8ms/step - loss: 2.1839 - accuracy: 0.4432\n",
      "Epoch 34/80\n",
      "3/3 [==============================] - 0s 12ms/step - loss: 2.0666 - accuracy: 0.4318\n",
      "Epoch 35/80\n",
      "3/3 [==============================] - 0s 9ms/step - loss: 1.9488 - accuracy: 0.4886\n",
      "Epoch 36/80\n",
      "3/3 [==============================] - 0s 10ms/step - loss: 1.8442 - accuracy: 0.5341\n",
      "Epoch 37/80\n",
      "3/3 [==============================] - 0s 8ms/step - loss: 1.7395 - accuracy: 0.5455\n",
      "Epoch 38/80\n",
      "3/3 [==============================] - 0s 9ms/step - loss: 1.6347 - accuracy: 0.6250\n",
      "Epoch 39/80\n",
      "3/3 [==============================] - 0s 8ms/step - loss: 1.5377 - accuracy: 0.6818\n",
      "Epoch 40/80\n",
      "3/3 [==============================] - 0s 9ms/step - loss: 1.4445 - accuracy: 0.6932\n",
      "Epoch 41/80\n",
      "3/3 [==============================] - 0s 8ms/step - loss: 1.3646 - accuracy: 0.7386\n",
      "Epoch 42/80\n",
      "3/3 [==============================] - 0s 8ms/step - loss: 1.2829 - accuracy: 0.7614\n",
      "Epoch 43/80\n",
      "3/3 [==============================] - 0s 9ms/step - loss: 1.2003 - accuracy: 0.8068\n",
      "Epoch 44/80\n",
      "3/3 [==============================] - 0s 9ms/step - loss: 1.1281 - accuracy: 0.8182\n",
      "Epoch 45/80\n",
      "3/3 [==============================] - 0s 8ms/step - loss: 1.0655 - accuracy: 0.8409\n",
      "Epoch 46/80\n",
      "3/3 [==============================] - 0s 8ms/step - loss: 0.9995 - accuracy: 0.8523\n",
      "Epoch 47/80\n",
      "3/3 [==============================] - 0s 9ms/step - loss: 0.9405 - accuracy: 0.8523\n",
      "Epoch 48/80\n",
      "3/3 [==============================] - 0s 10ms/step - loss: 0.8746 - accuracy: 0.8636\n",
      "Epoch 49/80\n",
      "3/3 [==============================] - 0s 11ms/step - loss: 0.8222 - accuracy: 0.8977\n",
      "Epoch 50/80\n",
      "3/3 [==============================] - 0s 10ms/step - loss: 0.7719 - accuracy: 0.8977\n",
      "Epoch 51/80\n",
      "3/3 [==============================] - 0s 10ms/step - loss: 0.7211 - accuracy: 0.9091\n",
      "Epoch 52/80\n",
      "3/3 [==============================] - 0s 10ms/step - loss: 0.6789 - accuracy: 0.9091\n",
      "Epoch 53/80\n",
      "3/3 [==============================] - 0s 10ms/step - loss: 0.6297 - accuracy: 0.9205\n",
      "Epoch 54/80\n",
      "3/3 [==============================] - 0s 10ms/step - loss: 0.5953 - accuracy: 0.9318\n",
      "Epoch 55/80\n",
      "3/3 [==============================] - 0s 10ms/step - loss: 0.5547 - accuracy: 0.9545\n",
      "Epoch 56/80\n",
      "3/3 [==============================] - 0s 8ms/step - loss: 0.5140 - accuracy: 0.9545\n",
      "Epoch 57/80\n",
      "3/3 [==============================] - 0s 9ms/step - loss: 0.4815 - accuracy: 0.9432\n",
      "Epoch 58/80\n",
      "3/3 [==============================] - 0s 9ms/step - loss: 0.4499 - accuracy: 0.9659\n",
      "Epoch 59/80\n",
      "3/3 [==============================] - 0s 8ms/step - loss: 0.4201 - accuracy: 0.9773\n",
      "Epoch 60/80\n",
      "3/3 [==============================] - 0s 8ms/step - loss: 0.3925 - accuracy: 0.9773\n",
      "Epoch 61/80\n",
      "3/3 [==============================] - 0s 10ms/step - loss: 0.3693 - accuracy: 0.9773\n",
      "Epoch 62/80\n",
      "3/3 [==============================] - 0s 9ms/step - loss: 0.3391 - accuracy: 0.9886\n",
      "Epoch 63/80\n",
      "3/3 [==============================] - 0s 9ms/step - loss: 0.3240 - accuracy: 0.9886\n",
      "Epoch 64/80\n",
      "3/3 [==============================] - 0s 8ms/step - loss: 0.3007 - accuracy: 0.9886\n",
      "Epoch 65/80\n",
      "3/3 [==============================] - 0s 9ms/step - loss: 0.2817 - accuracy: 0.9773\n",
      "Epoch 66/80\n",
      "3/3 [==============================] - 0s 9ms/step - loss: 0.2621 - accuracy: 0.9773\n",
      "Epoch 67/80\n",
      "3/3 [==============================] - 0s 8ms/step - loss: 0.2419 - accuracy: 0.9886\n",
      "Epoch 68/80\n",
      "3/3 [==============================] - 0s 9ms/step - loss: 0.2286 - accuracy: 0.9886\n",
      "Epoch 69/80\n",
      "3/3 [==============================] - 0s 10ms/step - loss: 0.2124 - accuracy: 0.9886\n",
      "Epoch 70/80\n",
      "3/3 [==============================] - 0s 10ms/step - loss: 0.1975 - accuracy: 0.9886\n",
      "Epoch 71/80\n",
      "3/3 [==============================] - 0s 9ms/step - loss: 0.1843 - accuracy: 1.0000\n",
      "Epoch 72/80\n",
      "3/3 [==============================] - 0s 9ms/step - loss: 0.1758 - accuracy: 1.0000\n",
      "Epoch 73/80\n",
      "3/3 [==============================] - 0s 9ms/step - loss: 0.1649 - accuracy: 0.9886\n",
      "Epoch 74/80\n",
      "3/3 [==============================] - 0s 8ms/step - loss: 0.1527 - accuracy: 0.9886\n",
      "Epoch 75/80\n",
      "3/3 [==============================] - 0s 8ms/step - loss: 0.1458 - accuracy: 0.9886\n",
      "Epoch 76/80\n",
      "3/3 [==============================] - 0s 8ms/step - loss: 0.1371 - accuracy: 1.0000\n",
      "Epoch 77/80\n",
      "3/3 [==============================] - 0s 8ms/step - loss: 0.1270 - accuracy: 1.0000\n",
      "Epoch 78/80\n",
      "3/3 [==============================] - 0s 9ms/step - loss: 0.1204 - accuracy: 1.0000\n",
      "Epoch 79/80\n",
      "3/3 [==============================] - 0s 9ms/step - loss: 0.1142 - accuracy: 1.0000\n",
      "Epoch 80/80\n"
     ]
    },
    {
     "name": "stdout",
     "output_type": "stream",
     "text": [
      "1/3 [=========>....................] - ETA: 0s - loss: 0.1165 - accuracy: 1.0000\b\b\b\b\b\b\b\b\b\b\b\b\b\b\b\b\b\b\b\b\b\b\b\b\b\b\b\b\b\b\b\b\b\b\b\b\b\b\b\b\b\b\b\b\b\b\b\b\b\b\b\b\b\b\b\b\b\b\b\b\b\b\b\b\b\b\b\b\b\b\b\b\b\b\b\b\b\b\b\b\r",
      "3/3 [==============================] - 0s 9ms/step - loss: 0.1069 - accuracy: 1.0000\n"
     ]
    }
   ],
   "source": [
    "history = model.fit(X, Y, epochs=80)"
   ]
  },
  {
   "cell_type": "code",
   "execution_count": 16,
   "id": "9e9aa048",
   "metadata": {},
   "outputs": [
    {
     "data": {
      "text/plain": [
       "<Axes: >"
      ]
     },
     "execution_count": 16,
     "metadata": {},
     "output_type": "execute_result"
    },
    {
     "data": {
      "image/png": "[encoded data removed]",
      "text/plain": [
       "<Figure size 640x480 with 1 Axes>"
      ]
     },
     "metadata": {},
     "output_type": "display_data"
    }
   ],
   "source": [
    "import seaborn as sns\n",
    "sns.lineplot(model.history.history)"
   ]
  },
  {
   "cell_type": "code",
   "execution_count": 17,
   "id": "57a59bce",
   "metadata": {},
   "outputs": [],
   "source": [
    "from sklearn.decomposition import PCA\n",
    "\n",
    "embeddings = model.get_weights()[0]\n",
    "\n",
    "pca = PCA(n_components=2)\n",
    "reduced_embeddings = pca.fit_transform(embeddings)"
   ]
  },
  {
   "cell_type": "code",
   "execution_count": 18,
   "id": "d3b4a655",
   "metadata": {},
   "outputs": [
    {
     "name": "stdout",
     "output_type": "stream",
     "text": [
      "'Deep learning (also known as deep structured learning) is part of a broader family of machine learning methods based on artificial neural networks with representation learning. Learning can be supervised, semi-supervised or unsupervised. Deep-learning architectures such as deep neural networks, deep belief networks, deep reinforcement learning, recurrent neural networks, convolutional neural networks and Transformers have been applied to fields including computer vision, speech recognition, natural language processing, machine translation, bioinformatics, drug design, medical image analysis, climate science, material inspection and board game programs, where they have produced results comparable to and in some cases surpassing human expert performance.\n"
     ]
    }
   ],
   "source": [
    "print(\"'Deep learning (also known as deep structured learning) is part of a broader family of machine learning methods based on artificial neural networks with representation learning. Learning can be supervised, semi-supervised or unsupervised. Deep-learning architectures such as deep neural networks, deep belief networks, deep reinforcement learning, recurrent neural networks, convolutional neural networks and Transformers have been applied to fields including computer vision, speech recognition, natural language processing, machine translation, bioinformatics, drug design, medical image analysis, climate science, material inspection and board game programs, where they have produced results comparable to and in some cases surpassing human expert performance.\")"
   ]
  },
  {
   "cell_type": "code",
   "execution_count": 19,
   "id": "12afb398",
   "metadata": {},
   "outputs": [],
   "source": [
    "# test model: select some sentences from above paragraph\n",
    "test_sentenses = [\n",
    "    \"known as structured learning\",\n",
    "    \"transformers have applied to\",\n",
    "    \"where they produced results\",\n",
    "    \"cases surpassing expert performance\"\n",
    "]"
   ]
  },
  {
   "cell_type": "code",
   "execution_count": 20,
   "id": "158737b5",
   "metadata": {},
   "outputs": [
    {
     "name": "stdout",
     "output_type": "stream",
     "text": [
      "1/1 [==============================] - 0s 207ms/step\n",
      "pred  ['known', 'as', 'structured', 'learning'] \n",
      "= deep \n",
      "\n",
      "\n",
      "1/1 [==============================] - 0s 51ms/step\n",
      "pred  ['transformers', 'have', 'applied', 'to'] \n",
      "= been \n",
      "\n",
      "\n",
      "1/1 [==============================] - 0s 51ms/step\n",
      "pred  ['where', 'they', 'produced', 'results'] \n",
      "= have \n",
      "\n",
      "\n",
      "1/1 [==============================] - 0s 48ms/step\n",
      "pred  ['cases', 'surpassing', 'expert', 'performance'] \n",
      "= human \n",
      "\n",
      "\n"
     ]
    }
   ],
   "source": [
    "for sent in test_sentenses:\n",
    "    test_words = sent.split(\" \")\n",
    "#     print(test_words)\n",
    "    x_test =[]\n",
    "    for i in test_words:\n",
    "        x_test.append(word_to_index.get(i))\n",
    "    x_test = np.array([x_test])\n",
    "#     print(x_test)\n",
    "    \n",
    "    pred = model.predict(x_test)\n",
    "    pred = np.argmax(pred[0])\n",
    "    print(\"pred \", test_words, \"\\n=\", index_to_word.get(pred),\"\\n\\n\")"
   ]
  },
  {
   "cell_type": "code",
   "execution_count": null,
   "id": "bb5c7ab8",
   "metadata": {},
   "outputs": [],
   "source": []
  }
 ],
 "metadata": {
  "kernelspec": {
   "display_name": "Python 3 (ipykernel)",
   "language": "python",
   "name": "python3"
  },
  "language_info": {
   "codemirror_mode": {
    "name": "ipython",
    "version": 3
   },
   "file_extension": ".py",
   "mimetype": "text/x-python",
   "name": "python",
   "nbconvert_exporter": "python",
   "pygments_lexer": "ipython3",
   "version": "3.11.5"
  }
 },
 "nbformat": 4,
 "nbformat_minor": 5
}
